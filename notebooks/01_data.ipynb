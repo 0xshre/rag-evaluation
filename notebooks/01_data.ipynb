{
 "cells": [
  {
   "cell_type": "markdown",
   "metadata": {},
   "source": [
    "# Data\n",
    "\n",
    "We will first inspect the data to see what we are working with. We will be using the wikitext-raw-2 dataset, which is a collection of Wikipedia articles."
   ]
  },
  {
   "cell_type": "code",
   "execution_count": 1,
   "metadata": {},
   "outputs": [],
   "source": [
    "# Importing the libraries\n",
    "import matplotlib.pyplot as plt\n",
    "import seaborn as sns\n",
    "import pandas as pd\n",
    "import os"
   ]
  },
  {
   "cell_type": "code",
   "execution_count": 2,
   "metadata": {},
   "outputs": [],
   "source": [
    "os.chdir('../')"
   ]
  },
  {
   "cell_type": "code",
   "execution_count": 3,
   "metadata": {},
   "outputs": [],
   "source": [
    "from src.utils import *"
   ]
  },
  {
   "cell_type": "markdown",
   "metadata": {},
   "source": [
    "Utils contains helper functions for loading, preprocessing, and saving the data."
   ]
  },
  {
   "cell_type": "code",
   "execution_count": 4,
   "metadata": {},
   "outputs": [],
   "source": [
    "PATH_TEST_FILE = 'data/raw/test.parquet'"
   ]
  },
  {
   "cell_type": "code",
   "execution_count": 5,
   "metadata": {},
   "outputs": [],
   "source": [
    "# Reading the dataset\n",
    "df = pd.read_parquet(PATH_TEST_FILE)"
   ]
  },
  {
   "cell_type": "code",
   "execution_count": 6,
   "metadata": {},
   "outputs": [],
   "source": [
    "text = ''\n",
    "for line in df['text']:\n",
    "    text += line"
   ]
  },
  {
   "cell_type": "code",
   "execution_count": 7,
   "metadata": {},
   "outputs": [
    {
     "data": {
      "text/plain": [
       "' = Robert Boulter = \\n Robert Boulter is an English film , television and theatre actor . He had a gu'"
      ]
     },
     "execution_count": 7,
     "metadata": {},
     "output_type": "execute_result"
    }
   ],
   "source": [
    "text[:100]"
   ]
  },
  {
   "cell_type": "code",
   "execution_count": 8,
   "metadata": {},
   "outputs": [],
   "source": [
    "# Save as txt file\n",
    "if not os.path.exists('data/raw'):\n",
    "    os.makedirs('data/raw')\n",
    "with open('data/raw/test.txt', 'w') as f:\n",
    "    f.write(text)"
   ]
  },
  {
   "cell_type": "code",
   "execution_count": 9,
   "metadata": {},
   "outputs": [
    {
     "name": "stdout",
     "output_type": "stream",
     "text": [
      "Sample text: \n",
      "\n",
      "  = Robert Boulter = \n",
      " Robert Boulter is an English film , television\n",
      "and theatre actor . He had a guest @-@ starring role on the television\n",
      "series The Bill in 2000 . This was followed by a starring role in the\n",
      "play Herons written by Simon Stephens , which was performed in 2001 at\n",
      "the Royal Court Theatre . He had a guest role in the television series\n",
      "Judge John Deed in 2002 . In 2004 Boulter landed a role as \" Craig \" in\n",
      "the episode \" Teddy 's Story \" of the television series The Long Firm ;\n",
      "he s\n"
     ]
    }
   ],
   "source": [
    "print(f\"Sample text: \\n\\n {word_wrap(text[:500])}\")"
   ]
  },
  {
   "cell_type": "markdown",
   "metadata": {},
   "source": [
    "Let's first extract the topics in the dataset."
   ]
  },
  {
   "cell_type": "code",
   "execution_count": 10,
   "metadata": {},
   "outputs": [
    {
     "data": {
      "text/plain": [
       "['Robert Boulter',\n",
       " 'Du Fu',\n",
       " 'Kiss You ( One Direction song )',\n",
       " 'Ise @-@ class battleship',\n",
       " 'Dick Rifenburg',\n",
       " '1933 Treasure Coast hurricane',\n",
       " 'Second Battle of Naktong Bulge',\n",
       " 'Hed PE',\n",
       " 'Ironclad warship',\n",
       " 'Little Gidding ( poem )']"
      ]
     },
     "execution_count": 10,
     "metadata": {},
     "output_type": "execute_result"
    }
   ],
   "source": [
    "main_topics = extract_main_topics(text)\n",
    "\n",
    "main_topics[:10]"
   ]
  },
  {
   "cell_type": "code",
   "execution_count": 11,
   "metadata": {},
   "outputs": [
    {
     "data": {
      "text/plain": [
       "['Robert Boulter',\n",
       " 'Career',\n",
       " '2000 – 2005',\n",
       " '2006 – present',\n",
       " 'Filmography',\n",
       " 'Film',\n",
       " 'Television',\n",
       " 'Theatre',\n",
       " 'Du Fu',\n",
       " 'Life']"
      ]
     },
     "execution_count": 11,
     "metadata": {},
     "output_type": "execute_result"
    }
   ],
   "source": [
    "all_topics = extract_all_topics(text)\n",
    "all_topics[:10]"
   ]
  },
  {
   "cell_type": "code",
   "execution_count": 12,
   "metadata": {},
   "outputs": [
    {
     "data": {
      "image/png": "[encoded data removed]",
      "text/plain": [
       "<Figure size 500x500 with 1 Axes>"
      ]
     },
     "metadata": {},
     "output_type": "display_data"
    }
   ],
   "source": [
    "# distribution of topic lengths\n",
    "sns.set()\n",
    "sns.displot([len(t) for t in all_topics])\n",
    "plt.xlabel('Topic length')\n",
    "plt.ylabel('Density')\n",
    "plt.title('Distribution of topic lengths')\n",
    "plt.show()\n"
   ]
  },
  {
   "cell_type": "markdown",
   "metadata": {},
   "source": [
    "We understand that the data is in heierarchial format, so we will inject higher level topics into the lower level topics.\n",
    "\n",
    "    Example: \n",
    "    \n",
    "    = Topic =\n",
    "    == Subtopic ==\n",
    "    === Subsubtopic ===\n",
    "\n",
    "    will be converted to:\n",
    "    = Topic =\n",
    "    = Topic-Subtopic =\n",
    "    = Topic-Subtopic-Subsubtopic =\n",
    "\n"
   ]
  },
  {
   "cell_type": "code",
   "execution_count": 13,
   "metadata": {},
   "outputs": [],
   "source": [
    "new_text = modify_topics(text)"
   ]
  },
  {
   "cell_type": "code",
   "execution_count": 14,
   "metadata": {},
   "outputs": [],
   "source": [
    "new_main_topics = extract_main_topics(new_text)"
   ]
  },
  {
   "cell_type": "code",
   "execution_count": 15,
   "metadata": {},
   "outputs": [],
   "source": [
    "# All topics\n",
    "new_all_topics = extract_all_topics(new_text)"
   ]
  },
  {
   "cell_type": "code",
   "execution_count": 16,
   "metadata": {},
   "outputs": [
    {
     "data": {
      "image/png": "[encoded data removed]",
      "text/plain": [
       "<Figure size 500x500 with 1 Axes>"
      ]
     },
     "metadata": {},
     "output_type": "display_data"
    }
   ],
   "source": [
    "sns.displot([len(t) for t in new_all_topics])\n",
    "plt.xlabel('Topic length')\n",
    "plt.ylabel('Density')\n",
    "plt.title('Distribution of topic lengths')\n",
    "plt.show()"
   ]
  },
  {
   "cell_type": "code",
   "execution_count": 17,
   "metadata": {},
   "outputs": [
    {
     "name": "stdout",
     "output_type": "stream",
     "text": [
      "There are 9 topics over 500 characters long.\n"
     ]
    }
   ],
   "source": [
    "# topics over 100 characters\n",
    "long_topics = [t for t in new_all_topics if len(t) > 100]\n",
    "print(f'There are {len(long_topics)} topics over 500 characters long.')"
   ]
  },
  {
   "cell_type": "code",
   "execution_count": 18,
   "metadata": {},
   "outputs": [
    {
     "data": {
      "text/plain": [
       "['Ironclad warship-Early ironclad ships and battles-First battles between ironclads : the U.S. Civil War',\n",
       " 'Brock Lesnar-Professional wrestling career-World Wrestling Federation / Entertainment-Training and debut ( 2000 – 2002 )',\n",
       " 'Brock Lesnar-Professional wrestling career-World Wrestling Federation / Entertainment-WWE Championship reigns ( 2002 – 2004 )',\n",
       " 'Brock Lesnar-Professional wrestling career-World Wrestling Federation / Entertainment-Final storylines and departure ( 2004 )',\n",
       " 'Brock Lesnar-Professional wrestling career-Return to WWE-Feud with Triple H and ending the Streak ( 2012 – 2014 )',\n",
       " 'Brock Lesnar-Professional wrestling career-Return to WWE-WWE World Heavyweight Champion ( 2014 – 2015 )',\n",
       " 'Brock Lesnar-Professional wrestling career-Return to WWE-Various feuds and storylines ( 2015 – present )',\n",
       " 'Commonwealth War Graves Commission-Burial sites and memorials-Cemetery design-Common architectural design features',\n",
       " 'Commonwealth War Graves Commission-Burial sites and memorials-Cemetery design-Cross of Sacrifice and Stone of Remembrance']"
      ]
     },
     "execution_count": 18,
     "metadata": {},
     "output_type": "execute_result"
    }
   ],
   "source": [
    "long_topics"
   ]
  },
  {
   "cell_type": "code",
   "execution_count": 19,
   "metadata": {},
   "outputs": [
    {
     "data": {
      "text/plain": [
       "['Ironclad warship-Early ironclad ships and battles-First battles between ironclads : the U.S. Civil War',\n",
       " 'Brock Lesnar-Professional wrestling career-World Wrestling Federation / Entertainment-Training and debut ( 2000 – 2002 )',\n",
       " 'Brock Lesnar-Professional wrestling career-World Wrestling Federation / Entertainment-WWE Championship reigns ( 2002 – 2004 )',\n",
       " 'Brock Lesnar-Professional wrestling career-World Wrestling Federation / Entertainment-Final storylines and departure ( 2004 )',\n",
       " 'Brock Lesnar-Professional wrestling career-Return to WWE-Feud with Triple H and ending the Streak ( 2012 – 2014 )',\n",
       " 'Brock Lesnar-Professional wrestling career-Return to WWE-WWE World Heavyweight Champion ( 2014 – 2015 )',\n",
       " 'Brock Lesnar-Professional wrestling career-Return to WWE-Various feuds and storylines ( 2015 – present )',\n",
       " 'Commonwealth War Graves Commission-Burial sites and memorials-Cemetery design-Common architectural design features',\n",
       " 'Commonwealth War Graves Commission-Burial sites and memorials-Cemetery design-Cross of Sacrifice and Stone of Remembrance']"
      ]
     },
     "execution_count": 19,
     "metadata": {},
     "output_type": "execute_result"
    }
   ],
   "source": [
    "long_topics[:10]"
   ]
  },
  {
   "cell_type": "code",
   "execution_count": 20,
   "metadata": {},
   "outputs": [
    {
     "name": "stdout",
     "output_type": "stream",
     "text": [
      "nce Z , and a shunt admittance Y. The \" k \" in \" constant k \" is the\n",
      "value given by , \n",
      " <formula> \n",
      " Thus , k will have units of impedance ,\n",
      "that is , ohms . It is readily apparent that in order for k to be\n",
      "constant , Y must be the dual impedance of Z. A physical interpretation\n",
      "of k can be given by observing that k \n"
     ]
    }
   ],
   "source": [
    "search_string = 'Thus , k will have units of impedance , that is , ohms . It is readily apparent that in order for k to be constant ,'\n",
    "print(word_wrap(extract_chars_around_string(text, search_string, 100, 100)))"
   ]
  },
  {
   "cell_type": "code",
   "execution_count": 21,
   "metadata": {},
   "outputs": [],
   "source": [
    "topic_char_counts = count_chars_in_topics(new_text)"
   ]
  },
  {
   "cell_type": "code",
   "execution_count": 22,
   "metadata": {},
   "outputs": [
    {
     "data": {
      "image/png": "[encoded data removed]",
      "text/plain": [
       "<Figure size 500x500 with 1 Axes>"
      ]
     },
     "metadata": {},
     "output_type": "display_data"
    }
   ],
   "source": [
    "# plot the distribution of characters in topics\n",
    "sns.displot([count for count in topic_char_counts.values()])\n",
    "plt.xlabel('Number of characters')\n",
    "plt.ylabel('Density')\n",
    "plt.title('Distribution of characters in topics')\n",
    "plt.show()\n"
   ]
  },
  {
   "cell_type": "markdown",
   "metadata": {},
   "source": [
    "---"
   ]
  }
 ],
 "metadata": {
  "kernelspec": {
   "display_name": "base",
   "language": "python",
   "name": "python3"
  },
  "language_info": {
   "codemirror_mode": {
    "name": "ipython",
    "version": 3
   },
   "file_extension": ".py",
   "mimetype": "text/x-python",
   "name": "python",
   "nbconvert_exporter": "python",
   "pygments_lexer": "ipython3",
   "version": "3.11.7"
  }
 },
 "nbformat": 4,
 "nbformat_minor": 2
}
