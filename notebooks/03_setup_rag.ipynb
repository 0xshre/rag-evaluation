{
 "cells": [
  {
   "cell_type": "markdown",
   "metadata": {},
   "source": [
    "# RAG\n",
    "\n",
    "In this notebook, we will setup a single Retrieval Augmented Generation model on the wiki-text dataset using DSPy, Chroma DB for vector similiarity search and OPENAI API for text generation."
   ]
  },
  {
   "cell_type": "code",
   "execution_count": 3,
   "metadata": {},
   "outputs": [],
   "source": [
    "import dspy\n",
    "import os\n",
    "\n",
    "from langchain.text_splitter import SentenceTransformersTokenTextSplitter\n",
    "import chromadb\n",
    "from chromadb.utils.embedding_functions import OpenAIEmbeddingFunction, SentenceTransformerEmbeddingFunction"
   ]
  },
  {
   "cell_type": "code",
   "execution_count": 4,
   "metadata": {},
   "outputs": [],
   "source": [
    "os.chdir('../')"
   ]
  },
  {
   "cell_type": "code",
   "execution_count": 5,
   "metadata": {},
   "outputs": [],
   "source": [
    "from src.utils import *"
   ]
  },
  {
   "cell_type": "code",
   "execution_count": 6,
   "metadata": {},
   "outputs": [],
   "source": [
    "# Load the model\n",
    "turbo = dspy.OpenAI(model='gpt-3.5-turbo')"
   ]
  },
  {
   "cell_type": "code",
   "execution_count": 7,
   "metadata": {},
   "outputs": [],
   "source": [
    "# Read the text\n",
    "with open('./data/raw/test.txt', 'r') as f:\n",
    "    text = f.read().strip()\n",
    "\n",
    "dspy.settings.configure(lm=turbo)"
   ]
  },
  {
   "cell_type": "markdown",
   "metadata": {},
   "source": [
    "----"
   ]
  },
  {
   "cell_type": "markdown",
   "metadata": {},
   "source": [
    "## ChromaDB"
   ]
  },
  {
   "cell_type": "code",
   "execution_count": 10,
   "metadata": {},
   "outputs": [
    {
     "name": "stdout",
     "output_type": "stream",
     "text": [
      "\n",
      "Total chunks: 3789\n",
      "\n"
     ]
    }
   ],
   "source": [
    "from langchain.text_splitter import RecursiveCharacterTextSplitter\n",
    "\n",
    "character_splitter = RecursiveCharacterTextSplitter(\n",
    "    separators=[\"\\n\\n\", \"\\n\", \". \", \" \", \"\"],\n",
    "    chunk_size=512,\n",
    "    chunk_overlap=0\n",
    ")\n",
    "character_split_texts = character_splitter.split_text(text)\n",
    "\n",
    "print(f\"\\nTotal chunks: {len(character_split_texts)}\\n\")"
   ]
  },
  {
   "cell_type": "code",
   "execution_count": 11,
   "metadata": {},
   "outputs": [
    {
     "name": "stderr",
     "output_type": "stream",
     "text": [
      "/home/sudhanva/miniconda3/lib/python3.11/site-packages/torch/cuda/__init__.py:138: UserWarning: CUDA initialization: Unexpected error from cudaGetDeviceCount(). Did you run some cuda functions before calling NumCudaDevices() that might have already set an error? Error 804: forward compatibility was attempted on non supported HW (Triggered internally at /opt/conda/conda-bld/pytorch_1702400430266/work/c10/cuda/CUDAFunctions.cpp:108.)\n",
      "  return torch._C._cuda_getDeviceCount() > 0\n"
     ]
    },
    {
     "name": "stdout",
     "output_type": "stream",
     "text": [
      "\n",
      "Total chunks: 3789\n"
     ]
    }
   ],
   "source": [
    "token_splitter = SentenceTransformersTokenTextSplitter(chunk_overlap=32, tokens_per_chunk=256)\n",
    "\n",
    "token_split_texts = []\n",
    "for text in character_split_texts:\n",
    "    token_split_texts += token_splitter.split_text(text)\n",
    "\n",
    "print(f\"\\nTotal chunks: {len(token_split_texts)}\")"
   ]
  },
  {
   "cell_type": "code",
   "execution_count": 12,
   "metadata": {},
   "outputs": [
    {
     "name": "stdout",
     "output_type": "stream",
     "text": [
      "Length of embedding:\n",
      "384\n"
     ]
    }
   ],
   "source": [
    "embedding_function = SentenceTransformerEmbeddingFunction()\n",
    "\n",
    "\n",
    "print(\"Length of embedding:\")\n",
    "print(len(embedding_function([token_split_texts[0]])[0]))\n"
   ]
  },
  {
   "cell_type": "code",
   "execution_count": 13,
   "metadata": {},
   "outputs": [],
   "source": [
    "chroma_client = chromadb.PersistentClient(\"chroma.db\")"
   ]
  },
  {
   "cell_type": "code",
   "execution_count": 15,
   "metadata": {},
   "outputs": [],
   "source": [
    "# Create a new collection\n",
    "\n",
    "chroma_collection = chroma_client.get_or_create_collection(\"test\", embedding_function=embedding_function)\n",
    "\n",
    "ids = [str(i) for i in range(len(token_split_texts))]"
   ]
  },
  {
   "cell_type": "code",
   "execution_count": 16,
   "metadata": {},
   "outputs": [],
   "source": [
    "chroma_collection.add(ids=ids, documents=token_split_texts)"
   ]
  },
  {
   "cell_type": "code",
   "execution_count": 17,
   "metadata": {},
   "outputs": [
    {
     "data": {
      "text/plain": [
       "[Collection(name=test)]"
      ]
     },
     "execution_count": 17,
     "metadata": {},
     "output_type": "execute_result"
    }
   ],
   "source": [
    "chroma_client.list_collections()"
   ]
  },
  {
   "cell_type": "code",
   "execution_count": 19,
   "metadata": {},
   "outputs": [
    {
     "data": {
      "text/plain": [
       "{'ids': ['0'],\n",
       " 'embeddings': [[-0.044287558645009995,\n",
       "   -0.038164783269166946,\n",
       "   -0.07295431941747665,\n",
       "   0.027609067037701607,\n",
       "   -0.005572253372520208,\n",
       "   -0.06242752447724342,\n",
       "   0.0648723691701889,\n",
       "   0.009721271693706512,\n",
       "   0.0771678239107132,\n",
       "   -0.03820229694247246,\n",
       "   -0.022042306140065193,\n",
       "   0.01082813460379839,\n",
       "   0.05214730277657509,\n",
       "   -0.0428561195731163,\n",
       "   -0.05621713027358055,\n",
       "   0.04174640402197838,\n",
       "   -0.05734525993466377,\n",
       "   0.01149690430611372,\n",
       "   0.01060971524566412,\n",
       "   -0.0101225720718503,\n",
       "   -0.08386775851249695,\n",
       "   0.054102588444948196,\n",
       "   -0.008147317916154861,\n",
       "   0.11363304406404495,\n",
       "   -0.02989031746983528,\n",
       "   -0.003911081235855818,\n",
       "   0.05566437169909477,\n",
       "   -0.010348524898290634,\n",
       "   -0.03902805224061012,\n",
       "   0.02653108723461628,\n",
       "   0.02769559994339943,\n",
       "   -0.0019249316537752748,\n",
       "   -0.0035193057265132666,\n",
       "   -0.03921325132250786,\n",
       "   0.010268784128129482,\n",
       "   0.0024343577679246664,\n",
       "   0.00842150580137968,\n",
       "   0.12012021243572235,\n",
       "   0.024217667058110237,\n",
       "   -0.019165489822626114,\n",
       "   -0.01409396156668663,\n",
       "   -0.0848812609910965,\n",
       "   -0.022179314866662025,\n",
       "   0.010051902383565903,\n",
       "   -0.056077707558870316,\n",
       "   0.010053282603621483,\n",
       "   0.03461110591888428,\n",
       "   -0.04340675473213196,\n",
       "   0.014311687089502811,\n",
       "   0.06032847985625267,\n",
       "   -0.015734054148197174,\n",
       "   0.017976824194192886,\n",
       "   -0.04760611802339554,\n",
       "   -0.0680728554725647,\n",
       "   0.032596878707408905,\n",
       "   0.05871458351612091,\n",
       "   -0.07425940781831741,\n",
       "   0.0484401099383831,\n",
       "   0.011865981854498386,\n",
       "   0.07515799254179001,\n",
       "   -0.052753765136003494,\n",
       "   0.027573799714446068,\n",
       "   -0.014747446402907372,\n",
       "   -0.001356152119114995,\n",
       "   0.07971981167793274,\n",
       "   0.0232476107776165,\n",
       "   -0.03793949633836746,\n",
       "   0.0003196281904820353,\n",
       "   -0.0938994511961937,\n",
       "   -0.014079354703426361,\n",
       "   0.041168298572301865,\n",
       "   -0.019654832780361176,\n",
       "   -0.023963777348399162,\n",
       "   -0.0581352524459362,\n",
       "   0.018817665055394173,\n",
       "   -0.02303769253194332,\n",
       "   0.016496898606419563,\n",
       "   0.055009230971336365,\n",
       "   0.011914515867829323,\n",
       "   -0.008172341622412205,\n",
       "   -0.0019451420521363616,\n",
       "   -0.18579712510108948,\n",
       "   -0.10207927972078323,\n",
       "   -0.05896957218647003,\n",
       "   0.008371512405574322,\n",
       "   0.01760309934616089,\n",
       "   0.02349023148417473,\n",
       "   -0.07598237693309784,\n",
       "   0.021634146571159363,\n",
       "   0.008250831626355648,\n",
       "   -0.04390578716993332,\n",
       "   -0.07836252450942993,\n",
       "   0.051391199231147766,\n",
       "   -0.00030069248168729246,\n",
       "   0.0033194925636053085,\n",
       "   0.03651947155594826,\n",
       "   -0.02331565134227276,\n",
       "   0.07903498411178589,\n",
       "   -0.03467546030879021,\n",
       "   0.07944075018167496,\n",
       "   -0.10821955651044846,\n",
       "   -0.0880596861243248,\n",
       "   0.06650740653276443,\n",
       "   0.047031089663505554,\n",
       "   -0.032086193561553955,\n",
       "   -0.0776415541768074,\n",
       "   0.04829932376742363,\n",
       "   0.04562045633792877,\n",
       "   0.07089178264141083,\n",
       "   -0.060150470584630966,\n",
       "   0.06326265633106232,\n",
       "   -0.005880103446543217,\n",
       "   0.10235986858606339,\n",
       "   0.08477284014225006,\n",
       "   0.09027179330587387,\n",
       "   -0.07585785537958145,\n",
       "   -0.004497352056205273,\n",
       "   -0.037222929298877716,\n",
       "   0.037042926996946335,\n",
       "   -0.15996380150318146,\n",
       "   0.06718306243419647,\n",
       "   0.04144510254263878,\n",
       "   -0.02809385024011135,\n",
       "   -0.03605193272233009,\n",
       "   0.019937029108405113,\n",
       "   0.008686899207532406,\n",
       "   0.06177761033177376,\n",
       "   -8.417861064677292e-34,\n",
       "   0.023479746654629707,\n",
       "   0.063546322286129,\n",
       "   0.13320672512054443,\n",
       "   0.05937820300459862,\n",
       "   -0.04853372275829315,\n",
       "   -0.030376190319657326,\n",
       "   -0.010403752326965332,\n",
       "   -0.012176250107586384,\n",
       "   0.019157955422997475,\n",
       "   0.03486063703894615,\n",
       "   -0.027503345161676407,\n",
       "   -0.020449286326766014,\n",
       "   -0.0053617144003510475,\n",
       "   -0.05364267900586128,\n",
       "   0.05354177951812744,\n",
       "   0.06374020874500275,\n",
       "   -0.0784914568066597,\n",
       "   0.006833711173385382,\n",
       "   -0.009990692138671875,\n",
       "   -0.08020002394914627,\n",
       "   -0.04597821831703186,\n",
       "   0.11379645764827728,\n",
       "   -0.06337107717990875,\n",
       "   0.056096483021974564,\n",
       "   -0.01917586289346218,\n",
       "   -0.0348283126950264,\n",
       "   0.01658640243113041,\n",
       "   -0.0488758459687233,\n",
       "   0.027400391176342964,\n",
       "   -0.012310235761106014,\n",
       "   0.12435930222272873,\n",
       "   0.0901736244559288,\n",
       "   0.012468868866562843,\n",
       "   -0.008087601512670517,\n",
       "   0.0825062021613121,\n",
       "   -0.06597413122653961,\n",
       "   -0.02023269049823284,\n",
       "   -0.02668597176671028,\n",
       "   -0.05958360806107521,\n",
       "   -0.006966538727283478,\n",
       "   0.006136526353657246,\n",
       "   -0.013496504165232182,\n",
       "   -0.053369201719760895,\n",
       "   0.06637486815452576,\n",
       "   -0.014756412245333195,\n",
       "   -0.08028645813465118,\n",
       "   -0.044271357357501984,\n",
       "   0.02219909243285656,\n",
       "   0.03624172508716583,\n",
       "   0.018560079857707024,\n",
       "   -0.012639805674552917,\n",
       "   0.024325404316186905,\n",
       "   0.0013627948937937617,\n",
       "   0.02867656759917736,\n",
       "   0.0730152428150177,\n",
       "   0.009193805046379566,\n",
       "   -0.03255453705787659,\n",
       "   0.050622280687093735,\n",
       "   0.05058075860142708,\n",
       "   0.049931447952985764,\n",
       "   0.06501184403896332,\n",
       "   0.04104161635041237,\n",
       "   0.011481873691082,\n",
       "   0.05146990343928337,\n",
       "   -0.00469046039506793,\n",
       "   -0.06541188806295395,\n",
       "   0.03572719171643257,\n",
       "   0.004513908643275499,\n",
       "   -0.018381278961896896,\n",
       "   0.026251165196299553,\n",
       "   0.005557955242693424,\n",
       "   0.016878897324204445,\n",
       "   0.017717251554131508,\n",
       "   -0.041460346430540085,\n",
       "   -0.02017432264983654,\n",
       "   0.013581001199781895,\n",
       "   -0.011944758705794811,\n",
       "   0.04483577981591225,\n",
       "   -0.060027651488780975,\n",
       "   -0.0339263416826725,\n",
       "   -0.04207935184240341,\n",
       "   -0.034603796899318695,\n",
       "   0.11040093749761581,\n",
       "   -0.017758140340447426,\n",
       "   -0.02764846757054329,\n",
       "   0.049178335815668106,\n",
       "   -0.03250784054398537,\n",
       "   -0.06571317464113235,\n",
       "   0.052787523716688156,\n",
       "   0.06806915998458862,\n",
       "   -0.04614943638443947,\n",
       "   -0.041753292083740234,\n",
       "   0.0015074703842401505,\n",
       "   -0.04337871074676514,\n",
       "   -0.08679186552762985,\n",
       "   -2.3189925260169097e-34,\n",
       "   -0.04288742318749428,\n",
       "   -0.04305762052536011,\n",
       "   0.04642603173851967,\n",
       "   0.023077424615621567,\n",
       "   0.021013379096984863,\n",
       "   -0.034364037215709686,\n",
       "   0.04094167426228523,\n",
       "   -0.06582711637020111,\n",
       "   -0.024178000167012215,\n",
       "   -0.07183150202035904,\n",
       "   0.01294957660138607,\n",
       "   0.06459037959575653,\n",
       "   0.0012916375417262316,\n",
       "   -0.01639372669160366,\n",
       "   0.03751176595687866,\n",
       "   -0.043557312339544296,\n",
       "   0.002845576498657465,\n",
       "   -0.02934364229440689,\n",
       "   -0.05997922644019127,\n",
       "   0.0027487704064697027,\n",
       "   0.06281407177448273,\n",
       "   0.06983660906553268,\n",
       "   -0.05546579509973526,\n",
       "   -0.10804000496864319,\n",
       "   -0.04121332988142967,\n",
       "   -0.006847810931503773,\n",
       "   0.059257037937641144,\n",
       "   0.07458892464637756,\n",
       "   -0.051566753536462784,\n",
       "   0.0336560495197773,\n",
       "   -0.0023354964796453714,\n",
       "   0.02872733771800995,\n",
       "   0.03501659259200096,\n",
       "   -0.00903499498963356,\n",
       "   -0.1238694116473198,\n",
       "   0.04752552509307861,\n",
       "   0.04962894693017006,\n",
       "   -0.06294973194599152,\n",
       "   -0.07381265610456467,\n",
       "   -0.021901190280914307,\n",
       "   -0.045644085854291916,\n",
       "   -0.05858447775244713,\n",
       "   -0.034762121737003326,\n",
       "   -0.018696637824177742,\n",
       "   0.00852600671350956,\n",
       "   -0.025889819487929344,\n",
       "   -0.06700702011585236,\n",
       "   0.02656198851764202,\n",
       "   0.031446415930986404,\n",
       "   0.02734467014670372,\n",
       "   -0.04864935949444771,\n",
       "   0.022693490609526634,\n",
       "   -0.017621828243136406,\n",
       "   -0.07656164467334747,\n",
       "   0.05265169218182564,\n",
       "   -0.04275354743003845,\n",
       "   -0.006071712356060743,\n",
       "   -0.08952105045318604,\n",
       "   0.025666648522019386,\n",
       "   0.054277170449495316,\n",
       "   -0.010435208678245544,\n",
       "   0.0157599039375782,\n",
       "   0.06629236787557602,\n",
       "   0.08399563282728195,\n",
       "   0.08211280405521393,\n",
       "   0.0016633387422189116,\n",
       "   -0.031589120626449585,\n",
       "   0.0905505120754242,\n",
       "   -0.01277023833245039,\n",
       "   -0.045791033655405045,\n",
       "   0.061735376715660095,\n",
       "   -0.1083979606628418,\n",
       "   -0.006706999149173498,\n",
       "   0.047374118119478226,\n",
       "   0.06741876155138016,\n",
       "   0.05507985129952431,\n",
       "   -0.04719654843211174,\n",
       "   0.060950636863708496,\n",
       "   -0.045511431992053986,\n",
       "   0.043086130172014236,\n",
       "   -0.1002301350235939,\n",
       "   -0.06806047260761261,\n",
       "   -0.021809469908475876,\n",
       "   0.04255538061261177,\n",
       "   -0.07720521092414856,\n",
       "   0.03075256571173668,\n",
       "   0.04796861112117767,\n",
       "   -0.037244122475385666,\n",
       "   0.020683888345956802,\n",
       "   -0.0037509805988520384,\n",
       "   -0.006625358480960131,\n",
       "   -0.12613718211650848,\n",
       "   0.14805260300636292,\n",
       "   -0.034096039831638336,\n",
       "   -0.014034158550202847,\n",
       "   -1.7054743395306105e-08,\n",
       "   -0.014962391927838326,\n",
       "   0.07417013496160507,\n",
       "   -0.05713284760713577,\n",
       "   -0.03252911940217018,\n",
       "   -0.02125473879277706,\n",
       "   0.06629505008459091,\n",
       "   0.03594334423542023,\n",
       "   -0.028577789664268494,\n",
       "   -0.06347370892763138,\n",
       "   0.09354916214942932,\n",
       "   -0.05857812985777855,\n",
       "   -0.011335226707160473,\n",
       "   0.11191495507955551,\n",
       "   0.033255405724048615,\n",
       "   0.061710190027952194,\n",
       "   -0.06409315019845963,\n",
       "   0.02026783861219883,\n",
       "   -0.01165781356394291,\n",
       "   -0.07240535318851471,\n",
       "   -0.010651713237166405,\n",
       "   -0.019291287288069725,\n",
       "   0.00339880189858377,\n",
       "   -0.0009884589817374945,\n",
       "   0.009978114627301693,\n",
       "   0.040371526032686234,\n",
       "   0.06452427059412003,\n",
       "   -0.02941512130200863,\n",
       "   0.03169846534729004,\n",
       "   0.04642214626073837,\n",
       "   0.0735078752040863,\n",
       "   0.0054350001737475395,\n",
       "   0.044858161360025406,\n",
       "   0.01172971073538065,\n",
       "   -0.0020386390388011932,\n",
       "   0.07531706988811493,\n",
       "   -0.01516161859035492,\n",
       "   -0.041393671184778214,\n",
       "   0.08795429766178131,\n",
       "   -0.004651287570595741,\n",
       "   0.06424840539693832,\n",
       "   -0.07464958727359772,\n",
       "   0.0487288162112236,\n",
       "   0.0056176213547587395,\n",
       "   0.04771275818347931,\n",
       "   0.050009436905384064,\n",
       "   0.02396399714052677,\n",
       "   0.02112443372607231,\n",
       "   0.026533938944339752,\n",
       "   0.0003066597564611584,\n",
       "   -0.055727336555719376,\n",
       "   0.05417618900537491,\n",
       "   0.016586141660809517,\n",
       "   0.004574516322463751,\n",
       "   0.005724185146391392,\n",
       "   0.021312076598405838,\n",
       "   -0.06709223985671997,\n",
       "   0.024120012298226357,\n",
       "   0.006237115245312452,\n",
       "   -0.004835808649659157,\n",
       "   -0.04901217669248581,\n",
       "   0.053176362067461014,\n",
       "   -0.05012435466051102,\n",
       "   0.025829030200839043,\n",
       "   -0.012061393819749355]],\n",
       " 'metadatas': [None],\n",
       " 'documents': ['= robert boulter ='],\n",
       " 'uris': None,\n",
       " 'data': None}"
      ]
     },
     "execution_count": 19,
     "metadata": {},
     "output_type": "execute_result"
    }
   ],
   "source": [
    "chroma_collection.peek(1)"
   ]
  },
  {
   "cell_type": "markdown",
   "metadata": {},
   "source": [
    "----"
   ]
  },
  {
   "cell_type": "code",
   "execution_count": 20,
   "metadata": {},
   "outputs": [
    {
     "name": "stdout",
     "output_type": "stream",
     "text": [
      "Query: Who was Robert Boulter?\n",
      "\n",
      "Retrieved 2 documents\n",
      "\n",
      "= robert boulter =\n",
      "robert boulter is an english film, television and theatre actor. he had\n",
      "a guest @ - @ starring role on the television series the bill in 2000.\n",
      "this was followed by a starring role in the play herons written by\n",
      "simon stephens, which was performed in 2001 at the royal court theatre.\n",
      "he had a guest role in the television series judge john deed in 2002\n"
     ]
    }
   ],
   "source": [
    "query = \"Who was Robert Boulter?\"\n",
    "\n",
    "results = chroma_collection.query(query_texts=[query], n_results=2)\n",
    "retrieved_documents = results['documents'][0]\n",
    "\n",
    "print(f\"Query: {query}\")\n",
    "\n",
    "print(f\"\\nRetrieved {len(retrieved_documents)} documents\\n\")\n",
    "\n",
    "for docs in retrieved_documents:\n",
    "    print(word_wrap(docs))\n"
   ]
  },
  {
   "cell_type": "code",
   "execution_count": 21,
   "metadata": {},
   "outputs": [],
   "source": [
    "turbo = dspy.OpenAI(model='gpt-3.5-turbo')\n",
    "\n",
    "dspy.settings.configure(lm=turbo)"
   ]
  },
  {
   "cell_type": "code",
   "execution_count": 22,
   "metadata": {},
   "outputs": [],
   "source": [
    "class GenerateAnswer(dspy.Signature):\n",
    "    \"\"\"Answer questions with short factoid answers.\"\"\"\n",
    "\n",
    "    context = dspy.InputField(desc=\"may contain relevant facts\")\n",
    "    question = dspy.InputField()\n",
    "    answer = dspy.OutputField(desc=\"Explain with words between 1 and 5 words\")"
   ]
  },
  {
   "cell_type": "code",
   "execution_count": 23,
   "metadata": {},
   "outputs": [],
   "source": [
    "# Modifying the default RAG module because it doesn't work with the SentenceTransformerEmbeddingFunction\n",
    "class RAG(dspy.Module):\n",
    "    def __init__(self, num_passages=3):\n",
    "        super().__init__()\n",
    "        self.chroma_collection = chroma_client.get_collection(\"test\")\n",
    "        self.generate_answer = dspy.ChainOfThought(GenerateAnswer)\n",
    "        self.num_passages = num_passages\n",
    "    \n",
    "    def forward(self, question):\n",
    "        context = self.chroma_collection.query(query_texts=[question], n_results=self.num_passages)\n",
    "        context = context['documents']\n",
    "        prediction = self.generate_answer(context=context, question=question)\n",
    "        return dspy.Prediction(context=context, answer=prediction.answer)"
   ]
  },
  {
   "cell_type": "code",
   "execution_count": 24,
   "metadata": {},
   "outputs": [],
   "source": [
    "rag = RAG(num_passages=3)"
   ]
  },
  {
   "cell_type": "code",
   "execution_count": 25,
   "metadata": {},
   "outputs": [
    {
     "data": {
      "text/plain": [
       "Prediction(\n",
       "    context=[['= robert boulter =', 'robert boulter is an english film, television and theatre actor. he had a guest @ - @ starring role on the television series the bill in 2000. this was followed by a starring role in the play herons written by simon stephens, which was performed in 2001 at the royal court theatre. he had a guest role in the television series judge john deed in 2002', 'in 2000 boulter had a guest @ - @ starring role on the television series the bill ; he portrayed \" scott parry \" in the episode, \" in safe hands \". boulter starred as \" scott \" in the play herons written by simon stephens, which was performed in 2001 at the royal court theatre. a review of boulter\\'s performance in the independent on sunday described him as \" horribly menacing \" in the role, and he received critical reviews in the herald, and evening standard']],\n",
       "    answer='English actor.'\n",
       ")"
      ]
     },
     "execution_count": 25,
     "metadata": {},
     "output_type": "execute_result"
    }
   ],
   "source": [
    "question = \"Who was Robert Boulter?\"\n",
    "rag(question)"
   ]
  },
  {
   "cell_type": "code",
   "execution_count": 26,
   "metadata": {},
   "outputs": [
    {
     "name": "stdout",
     "output_type": "stream",
     "text": [
      "\n",
      "\n",
      "\n",
      "\n",
      "Answer questions with short factoid answers.\n",
      "\n",
      "---\n",
      "\n",
      "Follow the following format.\n",
      "\n",
      "Context: may contain relevant facts\n",
      "\n",
      "Question: ${question}\n",
      "\n",
      "Reasoning: Let's think step by step in order to ${produce the answer}. We ...\n",
      "\n",
      "Answer: Explain with words between 1 and 5 words\n",
      "\n",
      "---\n",
      "\n",
      "Context: «['= robert boulter =', 'robert boulter is an english film, television and theatre actor. he had a guest @ - @ starring role on the television series the bill in 2000. this was followed by a starring role in the play herons written by simon stephens, which was performed in 2001 at the royal court theatre. he had a guest role in the television series judge john deed in 2002', 'in 2000 boulter had a guest @ - @ starring role on the television series the bill ; he portrayed \" scott parry \" in the episode, \" in safe hands \". boulter starred as \" scott \" in the play herons written by simon stephens, which was performed in 2001 at the royal court theatre. a review of boulter\\'s performance in the independent on sunday described him as \" horribly menacing \" in the role, and he received critical reviews in the herald, and evening standard']»\n",
      "\n",
      "Question: Who was Robert Boulter?\n",
      "\n",
      "Reasoning: Let's think step by step in order to\u001b[32m produce the answer. We will look at the context provided. \n",
      "\n",
      "Answer: English actor.\u001b[0m\n",
      "\n",
      "\n",
      "\n"
     ]
    }
   ],
   "source": [
    "turbo.inspect_history(n=1)"
   ]
  },
  {
   "cell_type": "markdown",
   "metadata": {},
   "source": [
    "----"
   ]
  },
  {
   "cell_type": "markdown",
   "metadata": {},
   "source": [
    "### Using the modified ChromaDBRM"
   ]
  },
  {
   "cell_type": "code",
   "execution_count": 27,
   "metadata": {},
   "outputs": [],
   "source": [
    "from src import chromadb_rm"
   ]
  },
  {
   "cell_type": "code",
   "execution_count": 28,
   "metadata": {},
   "outputs": [
    {
     "name": "stdout",
     "output_type": "stream",
     "text": [
      "Collection Count: 3789\n"
     ]
    }
   ],
   "source": [
    "chroma_rm = chromadb_rm.ChromadbRM(collection_name=\"test\", persist_directory=\"chroma.db\", local_embed_model=\"sentence-transformers/paraphrase-MiniLM-L6-v2\",\n",
    "                                   openai_api_key=os.environ[\"OPENAI_API_KEY\"])"
   ]
  },
  {
   "cell_type": "code",
   "execution_count": 29,
   "metadata": {},
   "outputs": [],
   "source": [
    "dspy.settings.configure(lm=turbo, rm=chroma_rm)"
   ]
  },
  {
   "cell_type": "code",
   "execution_count": 30,
   "metadata": {},
   "outputs": [],
   "source": [
    "class RAG(dspy.Module):\n",
    "    def __init__(self, num_passages=3):\n",
    "        super().__init__()\n",
    "        self.retrieve = dspy.Retrieve(k=num_passages)\n",
    "        self.generate_answer = dspy.ChainOfThought(GenerateAnswer)\n",
    "    \n",
    "    def forward(self, question):\n",
    "        context = self.retrieve(question).passages\n",
    "        prediction = self.generate_answer(context=context, question=question)\n",
    "        return dspy.Prediction(context=context, answer=prediction.answer)"
   ]
  },
  {
   "cell_type": "code",
   "execution_count": 31,
   "metadata": {},
   "outputs": [
    {
     "data": {
      "text/plain": [
       "Prediction(\n",
       "    context=['= robert boulter =', 'robert boulter is an english film, television and theatre actor. he had a guest @ - @ starring role on the television series the bill in 2000. this was followed by a starring role in the play herons written by simon stephens, which was performed in 2001 at the royal court theatre. he had a guest role in the television series judge john deed in 2002', 'in 2006 boulter starred in the play citizenship written by mark ravenhill. the play was part of a series which featured different playwrights, titled burn / chatroom / citizenship. in a 2006 interview, fellow actor ben whishaw identified boulter as one of his favorite co @ - @ stars : \" i loved working with a guy called robert boulter, who was in the triple bill of burn, chatroom and citizenship at the national. he played my brother in mercury fur'],\n",
       "    answer='English actor'\n",
       ")"
      ]
     },
     "execution_count": 31,
     "metadata": {},
     "output_type": "execute_result"
    }
   ],
   "source": [
    "rag = RAG(num_passages=3)\n",
    "question = \"Who was Robert Boulter?\"\n",
    "rag(question)"
   ]
  },
  {
   "cell_type": "code",
   "execution_count": 32,
   "metadata": {},
   "outputs": [
    {
     "name": "stderr",
     "output_type": "stream",
     "text": [
      "/home/sudhanva/miniconda3/lib/python3.11/site-packages/datasets/table.py:1421: FutureWarning: promote has been superseded by mode='default'.\n",
      "  table = cls._concat_blocks(blocks, axis=0)\n"
     ]
    },
    {
     "data": {
      "text/plain": [
       "(20, 50)"
      ]
     },
     "execution_count": 32,
     "metadata": {},
     "output_type": "execute_result"
    }
   ],
   "source": [
    "from dspy.datasets import HotPotQA\n",
    "\n",
    "# Load the dataset.\n",
    "dataset = HotPotQA(train_seed=1, train_size=20, eval_seed=2023, dev_size=50, test_size=0)\n",
    "\n",
    "# Tell DSPy that the 'question' field is the input. Any other fields are labels and/or metadata.\n",
    "trainset = [x.with_inputs('question') for x in dataset.train]\n",
    "devset = [x.with_inputs('question') for x in dataset.dev]\n",
    "\n",
    "len(trainset), len(devset)"
   ]
  },
  {
   "cell_type": "code",
   "execution_count": 33,
   "metadata": {},
   "outputs": [
    {
     "name": "stderr",
     "output_type": "stream",
     "text": [
      "100%|██████████| 20/20 [00:12<00:00,  1.61it/s]"
     ]
    },
    {
     "name": "stdout",
     "output_type": "stream",
     "text": [
      "Bootstrapped 0 full traces after 20 examples in round 0.\n"
     ]
    },
    {
     "name": "stderr",
     "output_type": "stream",
     "text": [
      "\n"
     ]
    }
   ],
   "source": [
    "from dspy.teleprompt import BootstrapFewShot\n",
    "\n",
    "# Validation logic: check that the predicted answer is correct.\n",
    "# Also check that the retrieved context does actually contain that answer.\n",
    "def validate_context_and_answer(example, pred, trace=None):\n",
    "    answer_EM = dspy.evaluate.answer_exact_match(example, pred)\n",
    "    answer_PM = dspy.evaluate.answer_passage_match(example, pred)\n",
    "    return answer_EM and answer_PM\n",
    "\n",
    "# Set up a basic teleprompter, which will compile our RAG program.\n",
    "teleprompter = BootstrapFewShot(metric=validate_context_and_answer)\n",
    "\n",
    "# Compile!\n",
    "compiled_rag = teleprompter.compile(RAG(), trainset=trainset)"
   ]
  },
  {
   "cell_type": "code",
   "execution_count": 34,
   "metadata": {},
   "outputs": [
    {
     "name": "stdout",
     "output_type": "stream",
     "text": [
      "Question: Who was Robert Boulter?\n",
      "Predicted Answer: English actor\n",
      "Retrieved Contexts (truncated): ['= robert boulter =...', 'robert boulter is an english film, television and theatre actor. he had a guest @ - @ starring role on the television series the bill in 2000. this was followed by a starring role in the play herons w...', 'in 2006 boulter starred in the play citizenship written by mark ravenhill. the play was part of a series which featured different playwrights, titled burn / chatroom / citizenship. in a 2006 interview...']\n"
     ]
    }
   ],
   "source": [
    "# Ask any question you like to this simple RAG program.\n",
    "my_question = \"Who was Robert Boulter?\"\n",
    "\n",
    "# Get the prediction. This contains `pred.context` and `pred.answer`.\n",
    "pred = compiled_rag(my_question)\n",
    "\n",
    "# Print the contexts and the answer.\n",
    "print(f\"Question: {my_question}\")\n",
    "print(f\"Predicted Answer: {pred.answer}\")\n",
    "print(f\"Retrieved Contexts (truncated): {[c[:200] + '...' for c in pred.context]}\")"
   ]
  },
  {
   "cell_type": "code",
   "execution_count": 35,
   "metadata": {},
   "outputs": [
    {
     "name": "stdout",
     "output_type": "stream",
     "text": [
      "\n",
      "\n",
      "\n",
      "\n",
      "Answer questions with short factoid answers.\n",
      "\n",
      "---\n",
      "\n",
      "Question: Which magazine has published articles by Scott Shaw, Tae Kwon Do Times or Southwest Art?\n",
      "Answer: Tae Kwon Do Times\n",
      "\n",
      "Question: This American guitarist best known for her work with the Iron Maidens is an ancestor of a composer who was known as what?\n",
      "Answer: The Waltz King\n",
      "\n",
      "Question: On the coast of what ocean is the birthplace of Diogal Sakho?\n",
      "Answer: Atlantic\n",
      "\n",
      "Question: The Victorians - Their Story In Pictures is a documentary series written by an author born in what year?\n",
      "Answer: 1950\n",
      "\n",
      "Question: The Organisation that allows a community to influence their operation or use and to enjoy the benefits arisingwas founded in what year?\n",
      "Answer: 2010\n",
      "\n",
      "Question: Which company distributed this 1977 American animated film produced by Walt Disney Productions for which Sherman Brothers wrote songs?\n",
      "Answer: Buena Vista Distribution\n",
      "\n",
      "Question: Samantha Cristoforetti and Mark Shuttleworth are both best known for being first in their field to go where?\n",
      "Answer: space\n",
      "\n",
      "Question: At My Window was released by which American singer-songwriter?\n",
      "Answer: John Townes Van Zandt\n",
      "\n",
      "Question: Which of these publications was most recently published, Who Put the Bomp or Self?\n",
      "Answer: Self\n",
      "\n",
      "Question: Who is older, Aleksandr Danilovich Aleksandrov or Anatoly Fomenko?\n",
      "Answer: Aleksandr Danilovich Aleksandrov\n",
      "\n",
      "Question: What is the code name for the German offensive that started this Second World War engagement on the Eastern Front (a few hundred kilometers from Moscow) between Soviet and German forces, which included 102nd Infantry Division?\n",
      "Answer: Operation Citadel\n",
      "\n",
      "Question: Which Pakistani cricket umpire who won 3 consecutive ICC umpire of the year awards in 2009, 2010, and 2011 will be in the ICC World Twenty20?\n",
      "Answer: Aleem Sarwar Dar\n",
      "\n",
      "Question: \"Everything Has Changed\" is a song from an album released under which record label ?\n",
      "Answer: Big Machine Records\n",
      "\n",
      "Question: Which American actress who made their film debut in the 1995 teen drama \"Kids\" was the co-founder of Voto Latino?\n",
      "Answer: Rosario Dawson\n",
      "\n",
      "Question: which American actor was Candace Kita guest starred with\n",
      "Answer: Bill Murray\n",
      "\n",
      "Question: Who acted in the shot film The Shore and is also the youngest actress ever to play Ophelia in a Royal Shakespeare Company production of \"Hamlet.\" ?\n",
      "Answer: Kerry Condon\n",
      "\n",
      "---\n",
      "\n",
      "Follow the following format.\n",
      "\n",
      "Context: may contain relevant facts\n",
      "\n",
      "Question: ${question}\n",
      "\n",
      "Reasoning: Let's think step by step in order to ${produce the answer}. We ...\n",
      "\n",
      "Answer: Explain with words between 1 and 5 words\n",
      "\n",
      "---\n",
      "\n",
      "Context:\n",
      "[1] «= robert boulter =»\n",
      "[2] «robert boulter is an english film, television and theatre actor. he had a guest @ - @ starring role on the television series the bill in 2000. this was followed by a starring role in the play herons written by simon stephens, which was performed in 2001 at the royal court theatre. he had a guest role in the television series judge john deed in 2002»\n",
      "[3] «in 2006 boulter starred in the play citizenship written by mark ravenhill. the play was part of a series which featured different playwrights, titled burn / chatroom / citizenship. in a 2006 interview, fellow actor ben whishaw identified boulter as one of his favorite co @ - @ stars : \" i loved working with a guy called robert boulter, who was in the triple bill of burn, chatroom and citizenship at the national. he played my brother in mercury fur»\n",
      "\n",
      "Question: Who was Robert Boulter?\n",
      "\n",
      "Reasoning: Let's think step by step in order to\u001b[32m produce the answer. We know that Robert Boulter is an English actor who has appeared in film, television, and theater. He had a guest-starring role on the television series The Bill in 2000 and a starring role in the play Herons at the Royal Court Theatre in 2001. He also had a guest role in the television series Judge John Deed in 2002. In 2006, he starred in the play Citizenship written by Mark Ravenhill. \n",
      "\n",
      "Answer: English actor\u001b[0m\n",
      "\n",
      "\n",
      "\n"
     ]
    }
   ],
   "source": [
    "turbo.inspect_history(n=1)"
   ]
  },
  {
   "cell_type": "code",
   "execution_count": 36,
   "metadata": {},
   "outputs": [
    {
     "name": "stdout",
     "output_type": "stream",
     "text": [
      "generate_answer\n",
      "Example({'question': 'Which magazine has published articles by Scott Shaw, Tae Kwon Do Times or Southwest Art?', 'answer': 'Tae Kwon Do Times'}) (input_keys={'question'})\n",
      "\n"
     ]
    }
   ],
   "source": [
    "for name, parameter in compiled_rag.named_predictors():\n",
    "    print(name)\n",
    "    print(parameter.demos[0])\n",
    "    print()"
   ]
  },
  {
   "cell_type": "markdown",
   "metadata": {},
   "source": [
    "----"
   ]
  }
 ],
 "metadata": {
  "kernelspec": {
   "display_name": "base",
   "language": "python",
   "name": "python3"
  },
  "language_info": {
   "codemirror_mode": {
    "name": "ipython",
    "version": 3
   },
   "file_extension": ".py",
   "mimetype": "text/x-python",
   "name": "python",
   "nbconvert_exporter": "python",
   "pygments_lexer": "ipython3",
   "version": "3.11.7"
  }
 },
 "nbformat": 4,
 "nbformat_minor": 2
}
